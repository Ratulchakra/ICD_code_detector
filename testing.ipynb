{
 "cells": [
  {
   "cell_type": "code",
   "execution_count": 1,
   "id": "df00ad60",
   "metadata": {},
   "outputs": [],
   "source": [
    "reponse_examples_1 = \"\"\"\n",
    "Infectious colitis, enteritis, and gastroenteritis\n",
    "Tuberculous pneumonia [any form], unspecified\n",
    "Other specified pulmonary tuberculosis, tubercle bacilli not found by bacteriological or histological examination, but tuberculosis confirmed by other methods [inoculation of animals]\n",
    "Tuberculous pleurisy, unspecified\n",
    "Tuberculous laryngitis, tubercle bacilli not found by bacteriological or histological examination, but tuberculosis confirmed by other methods [inoculation of animals]\n",
    "Tuberculosis of knee, tubercle bacilli not found by bacteriological examination, but tuberculosis confirmed histologically\n",
    "Tuberculosis of other urinary organs, bacteriological or histological examination not done\n",
    "Tuberculosis of epididymis, bacteriological or histological examination not done\n",
    "Tuberculosis of peripheral lymph nodes, bacteriological or histological examination not done\n",
    "Tuberculosis of peripheral lymph nodes, tubercle bacilli not found by bacteriological examination, but tuberculosis confirmed histologically\n",
    "\"\"\""
   ]
  },
  {
   "cell_type": "code",
   "execution_count": 2,
   "metadata": {},
   "outputs": [],
   "source": [
    "reponse_examples_2 = \"\"\"\n",
    "Cicatricial entropion of right eye, unspecified eyelid\n",
    "Mechanical entropion of left upper eyelid\n",
    "Senile entropion of right upper eyelid\n",
    "Senile entropion of left upper eyelid\n",
    "Cicatricial lagophthalmos left lower eyelid\n",
    "Blepharochalasis right eye, unspecified eyelid\n",
    "Other degenerative disorders of eyelid and periocular area\n",
    "Retained foreign body in right eye, unspecified eyelid\n",
    "Vascular anomalies of right lower eyelid\n",
    "Vascular anomalies of left eye, unspecified eyelid\n",
    "Chronic dacryoadenitis, unspecified lacrimal gland\n",
    "\"\"\""
   ]
  },
  {
   "cell_type": "code",
   "execution_count": 3,
   "id": "041045ae",
   "metadata": {},
   "outputs": [],
   "source": [
    "hyde_prompt_1 = \"\"\"\n",
    "You are an expert Certified Professional Coder (CPC) certified Medical Coder.\n",
    "You will be provided a Doctor's Note.\n",
    "From this provide a exhaustive and exclusive list of diagnoses and health issues the patient has.\n",
    "Please provide proper medical terms.\n",
    "Example:\n",
    "{examples}\n",
    "\n",
    "Given the following doctor's note\n",
    "\n",
    "{note}\n",
    "\n",
    "Rule: Return in comma-separated format. Do not return anything other than necessary.\n",
    "\"\"\""
   ]
  },
  {
   "cell_type": "code",
   "execution_count": 4,
   "id": "efed75d5",
   "metadata": {},
   "outputs": [],
   "source": [
    "hyde_prompt_2 = \"\"\"\n",
    "You are a Certified Coding Specialist (CCS) Medical Coder trained in analyzing physician notes and assigning accurate diagnosis labels.\n",
    "Given a Doctor's Note, identify all applicable diagnoses affecting the patient, including acute conditions, chronic diseases, and related complications.\n",
    "Use precise ICD-level clinical terminology and group related issues where applicable.\n",
    "\n",
    "Example:\n",
    "{examples}\n",
    "\n",
    "Now analyze the following doctor's note:\n",
    "{note}\n",
    "\n",
    "Rule: Return your diagnoses as a comma-separated list.Do not return anything other than necessary.\n",
    "\"\"\""
   ]
  },
  {
   "cell_type": "code",
   "execution_count": 5,
   "id": "4699f89b",
   "metadata": {},
   "outputs": [],
   "source": [
    "prompt_dict = {\n",
    "    \"reponse_examples_1\": reponse_examples_1,\n",
    "    \"reponse_examples_2\": reponse_examples_2,\n",
    "    \"hyde_prompt_1\": hyde_prompt_1,\n",
    "    \"hyde_prompt_2\": hyde_prompt_2\n",
    "}"
   ]
  },
  {
   "cell_type": "code",
   "execution_count": 6,
   "metadata": {},
   "outputs": [],
   "source": [
    "import json\n",
    "\n",
    "with open(\"prompts.json\", \"w\") as f:\n",
    "    json.dump(prompt_dict, f, indent=4)"
   ]
  },
  {
   "cell_type": "code",
   "execution_count": 7,
   "id": "b8fd8744",
   "metadata": {},
   "outputs": [
    {
     "data": {
      "text/plain": [
       "{'reponse_examples_1': '\\nInfectious colitis, enteritis, and gastroenteritis\\nTuberculous pneumonia [any form], unspecified\\nOther specified pulmonary tuberculosis, tubercle bacilli not found by bacteriological or histological examination, but tuberculosis confirmed by other methods [inoculation of animals]\\nTuberculous pleurisy, unspecified\\nTuberculous laryngitis, tubercle bacilli not found by bacteriological or histological examination, but tuberculosis confirmed by other methods [inoculation of animals]\\nTuberculosis of knee, tubercle bacilli not found by bacteriological examination, but tuberculosis confirmed histologically\\nTuberculosis of other urinary organs, bacteriological or histological examination not done\\nTuberculosis of epididymis, bacteriological or histological examination not done\\nTuberculosis of peripheral lymph nodes, bacteriological or histological examination not done\\nTuberculosis of peripheral lymph nodes, tubercle bacilli not found by bacteriological examination, but tuberculosis confirmed histologically\\n',\n",
       " 'reponse_examples_2': '\\nCicatricial entropion of right eye, unspecified eyelid\\nMechanical entropion of left upper eyelid\\nSenile entropion of right upper eyelid\\nSenile entropion of left upper eyelid\\nCicatricial lagophthalmos left lower eyelid\\nBlepharochalasis right eye, unspecified eyelid\\nOther degenerative disorders of eyelid and periocular area\\nRetained foreign body in right eye, unspecified eyelid\\nVascular anomalies of right lower eyelid\\nVascular anomalies of left eye, unspecified eyelid\\nChronic dacryoadenitis, unspecified lacrimal gland\\n',\n",
       " 'hyde_prompt_1': \"\\nYou are an expert Certified Professional Coder (CPC) certified Medical Coder.\\nYou will be provided a Doctor's Note.\\nFrom this provide a exhaustive and exclusive list of diagnoses and health issues the patient has.\\nPlease provide proper medical terms.\\nExample:\\n{examples}\\n\\nGiven the following doctor's note\\n\\n{note}\\n\\nRule: Return in comma-separated format. Do not return anything other than necessary.\\n\",\n",
       " 'hyde_prompt_2': \"\\nYou are a Certified Coding Specialist (CCS) Medical Coder trained in analyzing physician notes and assigning accurate diagnosis labels.\\nGiven a Doctor's Note, identify all applicable diagnoses affecting the patient, including acute conditions, chronic diseases, and related complications.\\nUse precise ICD-level clinical terminology and group related issues where applicable.\\n\\nExample:\\n{examples}\\n\\nNow analyze the following doctor's note:\\n{note}\\n\\nRule: Return your diagnoses as a comma-separated list.Do not return anything other than necessary.\\n\"}"
      ]
     },
     "execution_count": 7,
     "metadata": {},
     "output_type": "execute_result"
    }
   ],
   "source": [
    "# Load JSON from a file\n",
    "with open(\"prompts.json\", \"r\") as f:\n",
    "    data = json.load(f)\n",
    "data"
   ]
  },
  {
   "cell_type": "code",
   "execution_count": 9,
   "id": "b7885c55",
   "metadata": {},
   "outputs": [
    {
     "data": {
      "text/plain": [
       "[('M12822',\n",
       "  10,\n",
       "  'Other specific arthropathies, not elsewhere classified, left elbow'),\n",
       " ('G562', 10, 'Lesion of ulnar nerve'),\n",
       " ('S53094', 10, 'Other dislocation of right radial head')]"
      ]
     },
     "execution_count": 9,
     "metadata": {},
     "output_type": "execute_result"
    }
   ],
   "source": [
    "sample = eval(\"\"\"\n",
    "[('M12822',\n",
    "  10,\n",
    "  'Other specific arthropathies, not elsewhere classified, left elbow'),\n",
    " ('G562', 10, 'Lesion of ulnar nerve'),\n",
    " ('S53094', 10, 'Other dislocation of right radial head')]\n",
    "\"\"\")\n",
    "sample"
   ]
  },
  {
   "cell_type": "code",
   "execution_count": 10,
   "id": "7157c79b",
   "metadata": {},
   "outputs": [],
   "source": [
    "import pandas as pd"
   ]
  },
  {
   "cell_type": "code",
   "execution_count": null,
   "id": "ec653bd4",
   "metadata": {},
   "outputs": [
    {
     "data": {
      "text/html": [
       "<div>\n",
       "<style scoped>\n",
       "    .dataframe tbody tr th:only-of-type {\n",
       "        vertical-align: middle;\n",
       "    }\n",
       "\n",
       "    .dataframe tbody tr th {\n",
       "        vertical-align: top;\n",
       "    }\n",
       "\n",
       "    .dataframe thead th {\n",
       "        text-align: right;\n",
       "    }\n",
       "</style>\n",
       "<table border=\"1\" class=\"dataframe\">\n",
       "  <thead>\n",
       "    <tr style=\"text-align: right;\">\n",
       "      <th></th>\n",
       "      <th>0</th>\n",
       "      <th>1</th>\n",
       "      <th>2</th>\n",
       "    </tr>\n",
       "  </thead>\n",
       "  <tbody>\n",
       "    <tr>\n",
       "      <th>0</th>\n",
       "      <td>M12822</td>\n",
       "      <td>10</td>\n",
       "      <td>Other specific arthropathies, not elsewhere cl...</td>\n",
       "    </tr>\n",
       "    <tr>\n",
       "      <th>1</th>\n",
       "      <td>G562</td>\n",
       "      <td>10</td>\n",
       "      <td>Lesion of ulnar nerve</td>\n",
       "    </tr>\n",
       "    <tr>\n",
       "      <th>2</th>\n",
       "      <td>S53094</td>\n",
       "      <td>10</td>\n",
       "      <td>Other dislocation of right radial head</td>\n",
       "    </tr>\n",
       "  </tbody>\n",
       "</table>\n",
       "</div>"
      ],
      "text/plain": [
       "        0   1                                                  2\n",
       "0  M12822  10  Other specific arthropathies, not elsewhere cl...\n",
       "1    G562  10                              Lesion of ulnar nerve\n",
       "2  S53094  10             Other dislocation of right radial head"
      ]
     },
     "execution_count": 11,
     "metadata": {},
     "output_type": "execute_result"
    }
   ],
   "source": [
    "df = pd.DataFrame(sample)"
   ]
  },
  {
   "cell_type": "code",
   "execution_count": 14,
   "id": "408f0df0",
   "metadata": {},
   "outputs": [],
   "source": [
    "from langchain.vectorstores import FAISS\n",
    "from langchain.embeddings import HuggingFaceEmbeddings\n",
    "\n",
    "ICD_INDEX_PATH = \"embeddings/langchain_faiss_index\"\n",
    "EMBEDDING_MODEL_NAME = \"sentence-transformers/all-MiniLM-L6-v2\""
   ]
  },
  {
   "cell_type": "code",
   "execution_count": 13,
   "metadata": {},
   "outputs": [
    {
     "name": "stderr",
     "output_type": "stream",
     "text": [
      "C:\\Users\\ratul\\AppData\\Local\\Temp\\ipykernel_5292\\1735884443.py:1: LangChainDeprecationWarning: The class `HuggingFaceEmbeddings` was deprecated in LangChain 0.2.2 and will be removed in 1.0. An updated version of the class exists in the :class:`~langchain-huggingface package and should be used instead. To use it run `pip install -U :class:`~langchain-huggingface` and import as `from :class:`~langchain_huggingface import HuggingFaceEmbeddings``.\n",
      "  embeddings_model = HuggingFaceEmbeddings(model_name=EMBEDDING_MODEL_NAME)\n",
      "c:\\Users\\ratul\\AppData\\Local\\Programs\\Python\\Python310\\lib\\site-packages\\tqdm\\auto.py:21: TqdmWarning: IProgress not found. Please update jupyter and ipywidgets. See https://ipywidgets.readthedocs.io/en/stable/user_install.html\n",
      "  from .autonotebook import tqdm as notebook_tqdm\n"
     ]
    }
   ],
   "source": [
    "embeddings_model = HuggingFaceEmbeddings(model_name=EMBEDDING_MODEL_NAME)\n",
    "vector_store = FAISS.load_local(ICD_INDEX_PATH, embeddings_model, allow_dangerous_deserialization=True)"
   ]
  },
  {
   "cell_type": "code",
   "execution_count": 16,
   "metadata": {},
   "outputs": [
    {
     "data": {
      "text/plain": [
       "[Document(metadata={'code': 'R066', 'version': 10, 'uuid': UUID('b2f6732f-852a-4f6b-9a9a-f7ff650c40a6')}, page_content='Hiccough'),\n",
       " Document(metadata={'code': '7868', 'version': 9, 'uuid': UUID('64206c4d-cce7-4c88-90c9-d61f7b2533cb')}, page_content='Hiccough'),\n",
       " Document(metadata={'code': '30752', 'version': 9, 'uuid': UUID('2b538e6f-2523-4d96-8a87-424a00a867b0')}, page_content='Pica')]"
      ]
     },
     "execution_count": 16,
     "metadata": {},
     "output_type": "execute_result"
    }
   ],
   "source": [
    "vector_store.similarity_search(\"hello\", k = 3)"
   ]
  },
  {
   "cell_type": "code",
   "execution_count": null,
   "metadata": {},
   "outputs": [],
   "source": []
  },
  {
   "cell_type": "code",
   "execution_count": null,
   "metadata": {},
   "outputs": [],
   "source": []
  }
 ],
 "metadata": {
  "kernelspec": {
   "display_name": "Python 3",
   "language": "python",
   "name": "python3"
  },
  "language_info": {
   "codemirror_mode": {
    "name": "ipython",
    "version": 3
   },
   "file_extension": ".py",
   "mimetype": "text/x-python",
   "name": "python",
   "nbconvert_exporter": "python",
   "pygments_lexer": "ipython3",
   "version": "3.10.11"
  }
 },
 "nbformat": 4,
 "nbformat_minor": 5
}
