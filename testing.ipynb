{
 "cells": [
  {
   "cell_type": "code",
   "execution_count": 1,
   "id": "df00ad60",
   "metadata": {},
   "outputs": [],
   "source": [
    "reponse_examples_1 = \"\"\"\n",
    "Infectious colitis, enteritis, and gastroenteritis\n",
    "Tuberculous pneumonia [any form], unspecified\n",
    "Other specified pulmonary tuberculosis, tubercle bacilli not found by bacteriological or histological examination, but tuberculosis confirmed by other methods [inoculation of animals]\n",
    "Tuberculous pleurisy, unspecified\n",
    "Tuberculous laryngitis, tubercle bacilli not found by bacteriological or histological examination, but tuberculosis confirmed by other methods [inoculation of animals]\n",
    "Tuberculosis of knee, tubercle bacilli not found by bacteriological examination, but tuberculosis confirmed histologically\n",
    "Tuberculosis of other urinary organs, bacteriological or histological examination not done\n",
    "Tuberculosis of epididymis, bacteriological or histological examination not done\n",
    "Tuberculosis of peripheral lymph nodes, bacteriological or histological examination not done\n",
    "Tuberculosis of peripheral lymph nodes, tubercle bacilli not found by bacteriological examination, but tuberculosis confirmed histologically\n",
    "\"\"\""
   ]
  },
  {
   "cell_type": "code",
   "execution_count": 2,
   "metadata": {},
   "outputs": [],
   "source": [
    "reponse_examples_2 = \"\"\"\n",
    "Cicatricial entropion of right eye, unspecified eyelid\n",
    "Mechanical entropion of left upper eyelid\n",
    "Senile entropion of right upper eyelid\n",
    "Senile entropion of left upper eyelid\n",
    "Cicatricial lagophthalmos left lower eyelid\n",
    "Blepharochalasis right eye, unspecified eyelid\n",
    "Other degenerative disorders of eyelid and periocular area\n",
    "Retained foreign body in right eye, unspecified eyelid\n",
    "Vascular anomalies of right lower eyelid\n",
    "Vascular anomalies of left eye, unspecified eyelid\n",
    "Chronic dacryoadenitis, unspecified lacrimal gland\n",
    "\"\"\""
   ]
  },
  {
   "cell_type": "code",
   "execution_count": 3,
   "id": "041045ae",
   "metadata": {},
   "outputs": [],
   "source": [
    "hyde_prompt_1 = \"\"\"\n",
    "You are an expert Certified Professional Coder (CPC) certified Medical Coder.\n",
    "You will be provided a Doctor's Note.\n",
    "From this provide a exhaustive and exclusive list of diagnoses and health issues the patient has.\n",
    "Please provide proper medical terms.\n",
    "Example:\n",
    "{examples}\n",
    "\n",
    "Given the following doctor's note\n",
    "\n",
    "{note}\n",
    "\n",
    "Rule: Return in comma-separated format. Do not return anything other than necessary.\n",
    "\"\"\""
   ]
  },
  {
   "cell_type": "code",
   "execution_count": 4,
   "id": "efed75d5",
   "metadata": {},
   "outputs": [],
   "source": [
    "hyde_prompt_2 = \"\"\"\n",
    "You are a Certified Coding Specialist (CCS) Medical Coder trained in analyzing physician notes and assigning accurate diagnosis labels.\n",
    "Given a Doctor's Note, identify all applicable diagnoses affecting the patient, including acute conditions, chronic diseases, and related complications.\n",
    "Use precise ICD-level clinical terminology and group related issues where applicable.\n",
    "\n",
    "Example:\n",
    "{examples}\n",
    "\n",
    "Now analyze the following doctor's note:\n",
    "{note}\n",
    "\n",
    "Rule: Return your diagnoses as a comma-separated list.Do not return anything other than necessary.\n",
    "\"\"\""
   ]
  },
  {
   "cell_type": "code",
   "execution_count": 5,
   "id": "4699f89b",
   "metadata": {},
   "outputs": [],
   "source": [
    "prompt_dict = {\n",
    "    \"reponse_examples_1\": reponse_examples_1,\n",
    "    \"reponse_examples_2\": reponse_examples_2,\n",
    "    \"hyde_prompt_1\": hyde_prompt_1,\n",
    "    \"hyde_prompt_2\": hyde_prompt_2\n",
    "}"
   ]
  },
  {
   "cell_type": "code",
   "execution_count": 6,
   "metadata": {},
   "outputs": [],
   "source": [
    "import json\n",
    "\n",
    "with open(\"prompts.json\", \"w\") as f:\n",
    "    json.dump(prompt_dict, f, indent=4)"
   ]
  },
  {
   "cell_type": "code",
   "execution_count": 7,
   "id": "b8fd8744",
   "metadata": {},
   "outputs": [
    {
     "data": {
      "text/plain": [
       "{'reponse_examples_1': '\\nInfectious colitis, enteritis, and gastroenteritis\\nTuberculous pneumonia [any form], unspecified\\nOther specified pulmonary tuberculosis, tubercle bacilli not found by bacteriological or histological examination, but tuberculosis confirmed by other methods [inoculation of animals]\\nTuberculous pleurisy, unspecified\\nTuberculous laryngitis, tubercle bacilli not found by bacteriological or histological examination, but tuberculosis confirmed by other methods [inoculation of animals]\\nTuberculosis of knee, tubercle bacilli not found by bacteriological examination, but tuberculosis confirmed histologically\\nTuberculosis of other urinary organs, bacteriological or histological examination not done\\nTuberculosis of epididymis, bacteriological or histological examination not done\\nTuberculosis of peripheral lymph nodes, bacteriological or histological examination not done\\nTuberculosis of peripheral lymph nodes, tubercle bacilli not found by bacteriological examination, but tuberculosis confirmed histologically\\n',\n",
       " 'reponse_examples_2': '\\nCicatricial entropion of right eye, unspecified eyelid\\nMechanical entropion of left upper eyelid\\nSenile entropion of right upper eyelid\\nSenile entropion of left upper eyelid\\nCicatricial lagophthalmos left lower eyelid\\nBlepharochalasis right eye, unspecified eyelid\\nOther degenerative disorders of eyelid and periocular area\\nRetained foreign body in right eye, unspecified eyelid\\nVascular anomalies of right lower eyelid\\nVascular anomalies of left eye, unspecified eyelid\\nChronic dacryoadenitis, unspecified lacrimal gland\\n',\n",
       " 'hyde_prompt_1': \"\\nYou are an expert Certified Professional Coder (CPC) certified Medical Coder.\\nYou will be provided a Doctor's Note.\\nFrom this provide a exhaustive and exclusive list of diagnoses and health issues the patient has.\\nPlease provide proper medical terms.\\nExample:\\n{examples}\\n\\nGiven the following doctor's note\\n\\n{note}\\n\\nRule: Return in comma-separated format. Do not return anything other than necessary.\\n\",\n",
       " 'hyde_prompt_2': \"\\nYou are a Certified Coding Specialist (CCS) Medical Coder trained in analyzing physician notes and assigning accurate diagnosis labels.\\nGiven a Doctor's Note, identify all applicable diagnoses affecting the patient, including acute conditions, chronic diseases, and related complications.\\nUse precise ICD-level clinical terminology and group related issues where applicable.\\n\\nExample:\\n{examples}\\n\\nNow analyze the following doctor's note:\\n{note}\\n\\nRule: Return your diagnoses as a comma-separated list.Do not return anything other than necessary.\\n\"}"
      ]
     },
     "execution_count": 7,
     "metadata": {},
     "output_type": "execute_result"
    }
   ],
   "source": [
    "# Load JSON from a file\n",
    "with open(\"prompts.json\", \"r\") as f:\n",
    "    data = json.load(f)\n",
    "data"
   ]
  },
  {
   "cell_type": "code",
   "execution_count": 9,
   "id": "b7885c55",
   "metadata": {},
   "outputs": [
    {
     "data": {
      "text/plain": [
       "[('M12822',\n",
       "  10,\n",
       "  'Other specific arthropathies, not elsewhere classified, left elbow'),\n",
       " ('G562', 10, 'Lesion of ulnar nerve'),\n",
       " ('S53094', 10, 'Other dislocation of right radial head')]"
      ]
     },
     "execution_count": 9,
     "metadata": {},
     "output_type": "execute_result"
    }
   ],
   "source": [
    "sample = eval(\"\"\"\n",
    "[('M12822',\n",
    "  10,\n",
    "  'Other specific arthropathies, not elsewhere classified, left elbow'),\n",
    " ('G562', 10, 'Lesion of ulnar nerve'),\n",
    " ('S53094', 10, 'Other dislocation of right radial head')]\n",
    "\"\"\")\n",
    "sample"
   ]
  },
  {
   "cell_type": "code",
   "execution_count": 10,
   "id": "7157c79b",
   "metadata": {},
   "outputs": [],
   "source": [
    "import pandas as pd"
   ]
  },
  {
   "cell_type": "code",
   "execution_count": null,
   "id": "ec653bd4",
   "metadata": {},
   "outputs": [
    {
     "data": {
      "text/html": [
       "<div>\n",
       "<style scoped>\n",
       "    .dataframe tbody tr th:only-of-type {\n",
       "        vertical-align: middle;\n",
       "    }\n",
       "\n",
       "    .dataframe tbody tr th {\n",
       "        vertical-align: top;\n",
       "    }\n",
       "\n",
       "    .dataframe thead th {\n",
       "        text-align: right;\n",
       "    }\n",
       "</style>\n",
       "<table border=\"1\" class=\"dataframe\">\n",
       "  <thead>\n",
       "    <tr style=\"text-align: right;\">\n",
       "      <th></th>\n",
       "      <th>0</th>\n",
       "      <th>1</th>\n",
       "      <th>2</th>\n",
       "    </tr>\n",
       "  </thead>\n",
       "  <tbody>\n",
       "    <tr>\n",
       "      <th>0</th>\n",
       "      <td>M12822</td>\n",
       "      <td>10</td>\n",
       "      <td>Other specific arthropathies, not elsewhere cl...</td>\n",
       "    </tr>\n",
       "    <tr>\n",
       "      <th>1</th>\n",
       "      <td>G562</td>\n",
       "      <td>10</td>\n",
       "      <td>Lesion of ulnar nerve</td>\n",
       "    </tr>\n",
       "    <tr>\n",
       "      <th>2</th>\n",
       "      <td>S53094</td>\n",
       "      <td>10</td>\n",
       "      <td>Other dislocation of right radial head</td>\n",
       "    </tr>\n",
       "  </tbody>\n",
       "</table>\n",
       "</div>"
      ],
      "text/plain": [
       "        0   1                                                  2\n",
       "0  M12822  10  Other specific arthropathies, not elsewhere cl...\n",
       "1    G562  10                              Lesion of ulnar nerve\n",
       "2  S53094  10             Other dislocation of right radial head"
      ]
     },
     "execution_count": 11,
     "metadata": {},
     "output_type": "execute_result"
    }
   ],
   "source": [
    "df = pd.DataFrame(sample)"
   ]
  },
  {
   "cell_type": "code",
   "execution_count": 6,
   "id": "408f0df0",
   "metadata": {},
   "outputs": [],
   "source": [
    "from langchain.vectorstores import FAISS\n",
    "from langchain.embeddings import HuggingFaceEmbeddings\n",
    "\n",
    "ICD_INDEX_PATH = \"/workspaces/ICD_code_detector/embeddings/langchain_faiss_index\"\n",
    "EMBEDDING_MODEL_NAME = \"sentence-transformers/all-MiniLM-L6-v2\""
   ]
  },
  {
   "cell_type": "code",
   "execution_count": 7,
   "metadata": {},
   "outputs": [
    {
     "ename": "RuntimeError",
     "evalue": "Error in faiss::Index* faiss::read_index(IOReader*, int) at /project/faiss/faiss/impl/index_read.cpp:1231: Index type 0x73726576 (\"vers\") not recognized",
     "output_type": "error",
     "traceback": [
      "\u001b[31m---------------------------------------------------------------------------\u001b[39m",
      "\u001b[31mRuntimeError\u001b[39m                              Traceback (most recent call last)",
      "\u001b[32m/tmp/ipykernel_11253/1735884443.py\u001b[39m in \u001b[36m?\u001b[39m\u001b[34m()\u001b[39m\n\u001b[32m      1\u001b[39m embeddings_model = HuggingFaceEmbeddings(model_name=EMBEDDING_MODEL_NAME)\n\u001b[32m----> \u001b[39m\u001b[32m2\u001b[39m vector_store = FAISS.load_local(ICD_INDEX_PATH, embeddings_model, allow_dangerous_deserialization=\u001b[38;5;28;01mTrue\u001b[39;00m)\n",
      "\u001b[32m/usr/local/python/3.12.1/lib/python3.12/site-packages/langchain_community/vectorstores/faiss.py\u001b[39m in \u001b[36m?\u001b[39m\u001b[34m(cls, folder_path, embeddings, index_name, allow_dangerous_deserialization, **kwargs)\u001b[39m\n\u001b[32m   1201\u001b[39m             )\n\u001b[32m   1202\u001b[39m         path = Path(folder_path)\n\u001b[32m   1203\u001b[39m         \u001b[38;5;66;03m# load index separately since it is not picklable\u001b[39;00m\n\u001b[32m   1204\u001b[39m         faiss = dependable_faiss_import()\n\u001b[32m-> \u001b[39m\u001b[32m1205\u001b[39m         index = faiss.read_index(str(path / f\"{index_name}.faiss\"))\n\u001b[32m   1206\u001b[39m \n\u001b[32m   1207\u001b[39m         \u001b[38;5;66;03m# load docstore and index_to_docstore_id\u001b[39;00m\n\u001b[32m   1208\u001b[39m         \u001b[38;5;28;01mwith\u001b[39;00m open(path / f\"{index_name}.pkl\", \u001b[33m\"rb\"\u001b[39m) \u001b[38;5;28;01mas\u001b[39;00m f:\n",
      "\u001b[32m/usr/local/python/3.12.1/lib/python3.12/site-packages/faiss/swigfaiss_avx2.py\u001b[39m in \u001b[36m?\u001b[39m\u001b[34m(*args)\u001b[39m\n\u001b[32m  11640\u001b[39m \u001b[38;5;28;01mdef\u001b[39;00m read_index(*args):\n\u001b[32m> \u001b[39m\u001b[32m11641\u001b[39m     \u001b[38;5;28;01mreturn\u001b[39;00m _swigfaiss_avx2.read_index(*args)\n",
      "\u001b[31mRuntimeError\u001b[39m: Error in faiss::Index* faiss::read_index(IOReader*, int) at /project/faiss/faiss/impl/index_read.cpp:1231: Index type 0x73726576 (\"vers\") not recognized"
     ]
    }
   ],
   "source": [
    "embeddings_model = HuggingFaceEmbeddings(model_name=EMBEDDING_MODEL_NAME)\n",
    "vector_store = FAISS.load_local(ICD_INDEX_PATH, embeddings_model, allow_dangerous_deserialization=True)"
   ]
  },
  {
   "cell_type": "code",
   "execution_count": 16,
   "metadata": {},
   "outputs": [
    {
     "data": {
      "text/plain": [
       "[Document(metadata={'code': 'R066', 'version': 10, 'uuid': UUID('b2f6732f-852a-4f6b-9a9a-f7ff650c40a6')}, page_content='Hiccough'),\n",
       " Document(metadata={'code': '7868', 'version': 9, 'uuid': UUID('64206c4d-cce7-4c88-90c9-d61f7b2533cb')}, page_content='Hiccough'),\n",
       " Document(metadata={'code': '30752', 'version': 9, 'uuid': UUID('2b538e6f-2523-4d96-8a87-424a00a867b0')}, page_content='Pica')]"
      ]
     },
     "execution_count": 16,
     "metadata": {},
     "output_type": "execute_result"
    }
   ],
   "source": [
    "vector_store.similarity_search(\"hello\", k = 3)"
   ]
  },
  {
   "cell_type": "code",
   "execution_count": 8,
   "id": "6a86d9f4",
   "metadata": {},
   "outputs": [],
   "source": [
    "import faiss"
   ]
  },
  {
   "cell_type": "code",
   "execution_count": 12,
   "metadata": {},
   "outputs": [
    {
     "data": {
      "text/plain": [
       "<faiss.swigfaiss_avx2.IndexFlatIP; proxy of <Swig Object of type 'faiss::IndexFlatIP *' at 0x723a0c3d9f80> >"
      ]
     },
     "execution_count": 12,
     "metadata": {},
     "output_type": "execute_result"
    }
   ],
   "source": [
    "faiss.read_index(\"/workspaces/ICD_code_detector/embeddings/langchain_faiss_index/index.faiss\")"
   ]
  },
  {
   "cell_type": "code",
   "execution_count": 11,
   "metadata": {},
   "outputs": [
    {
     "name": "stdout",
     "output_type": "stream",
     "text": [
      "b'IxFI'\n"
     ]
    }
   ],
   "source": [
    "with open(\"/workspaces/ICD_code_detector/embeddings/langchain_faiss_index/index.faiss\", \"rb\") as f:\n",
    "    print(f.read(4))"
   ]
  },
  {
   "cell_type": "code",
   "execution_count": null,
   "metadata": {},
   "outputs": [],
   "source": []
  }
 ],
 "metadata": {
  "kernelspec": {
   "display_name": "Python 3",
   "language": "python",
   "name": "python3"
  },
  "language_info": {
   "codemirror_mode": {
    "name": "ipython",
    "version": 3
   },
   "file_extension": ".py",
   "mimetype": "text/x-python",
   "name": "python",
   "nbconvert_exporter": "python",
   "pygments_lexer": "ipython3",
   "version": "3.12.1"
  }
 },
 "nbformat": 4,
 "nbformat_minor": 5
}
